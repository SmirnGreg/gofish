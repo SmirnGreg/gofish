{
 "cells": [
  {
   "cell_type": "markdown",
   "metadata": {},
   "source": [
    "# Advanced Fishing\n",
    "\n",
    "This Notebook goes through some of the slightly more advanced tasks which can be performed with `GoFish`. As with the previous Notebook we will be using the [CS (3-2) data from TW Hya](https://dataverse.harvard.edu/dataset.xhtml?persistentId=doi:10.7910/DVN/LO2QZM). Make sure that cube is accessible when running this Notebook."
   ]
  },
  {
   "cell_type": "code",
   "execution_count": 1,
   "metadata": {},
   "outputs": [],
   "source": [
    "%matplotlib inline\n",
    "import numpy as np\n",
    "import matplotlib.pyplot as plt\n",
    "from gofish import imagecube"
   ]
  },
  {
   "cell_type": "code",
   "execution_count": 2,
   "metadata": {},
   "outputs": [],
   "source": [
    "cube = imagecube('TWHya_CS_32.fits', clip=3.0)"
   ]
  },
  {
   "cell_type": "markdown",
   "metadata": {},
   "source": [
    "## Checking Disk Center\n",
    "\n",
    "If you don't have a strong line detection, it's hard to make sure that your image is centered. We can use the `find_center` function to apply a brute force approach to finding the optimum location. This will cycle through a grid of `x0` and `y0` values and calculate the signal-to-noise ratio (SNR) of the resulting spectrum averaged over the provided parameters.\n",
    "\n",
    "We can set the offset in the x- and y-direction considered, `dx` and `dy`, respectively, as well as the number of samples along each axis, `Nx` and `Ny`. By default we search up to a distance of the beam FWHM, sampling roughly every pixel.\n",
    "\n",
    "We must also then consider how to calculate the noise, either on the averaged spectrum, `spectrum='avg'`, or on the integrated spectrum, `spectrum='int'`, and then whether to consider the signal the peak of that spectrum, `SNR='peak'`, or the integrated value, `SNR='int'`. By default we use the integrated flux density of the average spectrum.\n",
    "\n",
    "A mask is also needed, defining the regions where we calculate the signal, and the regions where to calculate the noise (we use the standard deviation of the masked pixels). By default the mask assumes the line emission is in the center 20\\% of the channels.\n",
    "\n",
    "Note that this may take a while, particularly if you're searching a large area!"
   ]
  },
  {
   "cell_type": "code",
   "execution_count": null,
   "metadata": {},
   "outputs": [],
   "source": [
    "x0s, y0s, SNR = cube.find_center(r_min=0.5, r_max=1.0, v_min=1.84e3, v_max=3.84e3,\n",
    "                                 SNR='peak', inc=5.0, PA=152., mstar=0.88,\n",
    "                                 dist=59.5, resample=50.0)"
   ]
  },
  {
   "cell_type": "markdown",
   "metadata": {},
   "source": [
    "What's plotted here is the SNR relative to the value at the image center, and in the bottom left corner, the synthesized beam as a size reference.\n",
    "\n",
    "To check that this is a reasonable offset, we compare the averaged spectra at the center location and the offset."
   ]
  },
  {
   "cell_type": "code",
   "execution_count": 6,
   "metadata": {},
   "outputs": [
    {
     "data": {
      "text/plain": [
       "(1840.0, 3840.0)"
      ]
     },
     "execution_count": 6,
     "metadata": {},
     "output_type": "execute_result"
    },
    {
     "data": {
      "image/png": "[encoded data removed]",
      "text/plain": [
       "<Figure size 432x288 with 1 Axes>"
      ]
     },
     "metadata": {
      "needs_background": "light"
     },
     "output_type": "display_data"
    }
   ],
   "source": [
    "fig, ax = plt.subplots()\n",
    "\n",
    "x, y, dy = cube.average_spectrum(r_min=0.5, r_max=1.0, inc=5.0, PA=152.,\n",
    "                                 mstar=0.88, dist=59.5, dr_bin=0.1, resample=50.0)\n",
    "ax.errorbar(x, y, dy, fmt=' ', lw=1.0, color='k', capsize=1.25, capthick=1.25)\n",
    "ax.step(x, y, where='mid', color='k', lw=1.0, label='centered')\n",
    "\n",
    "x, y, dy = cube.average_spectrum(x0=-0.08, y0=-0.11, r_min=0.5, r_max=1.0, inc=5.0, PA=152.,\n",
    "                                 mstar=0.88, dist=59.5, dr_bin=0.1, resample=50.0)\n",
    "ax.errorbar(x, y, dy, fmt=' ', lw=1.0, color='r', capsize=1.25, capthick=1.25)\n",
    "ax.step(x, y, where='mid', color='r', lw=1.0, label='offset')\n",
    "ax.legend(markerfirst=False)\n",
    "ax.set_ylabel('Flux Density (Jy/beam)')\n",
    "ax.set_xlabel('Velocity (m/s)')\n",
    "ax.set_xlim(1.84e3, 3.84e3)"
   ]
  },
  {
   "cell_type": "markdown",
   "metadata": {},
   "source": [
    "Clearly the offset spectrum looks a lot better, as expected!\n",
    "\n",
    "## Masking Regions\n",
    "\n",
    "As demonstrated in [Yen et al. (2016)](https://ui.adsabs.harvard.edu/abs/2016ApJ...832..204Y), this method can be applied to specfic sections of the disk, i.e. you do not have to consider the disk as a whole.\n",
    "\n",
    "We've already seen the `r_min` and `r_max` values used in `average_spectrum` and `integrated_spectrum` which set the inner and outer radii of the annuli. But we also have `PA_min` and `PA_max`, which allow for similar masks in the azimuthal direction. The are provided in degrees, where $\\theta = 0$ aligns with the red-shifted major axis of the disk, and increasing in an eastwards direction, spanning $\\pm 180^{\\circ}$. Thus, to only consider the red-shifted side of the disk, we use `PA_min=-90.0` and `PA_max=90.0`.\n",
    "\n",
    "Because of the change in sign, we can access the other half of the disk through the `exclude_PA=True`, which by default is `False`."
   ]
  },
  {
   "cell_type": "code",
   "execution_count": 5,
   "metadata": {},
   "outputs": [
    {
     "data": {
      "text/plain": [
       "(1840.0, 3840.0)"
      ]
     },
     "execution_count": 5,
     "metadata": {},
     "output_type": "execute_result"
    },
    {
     "data": {
      "image/png": "[encoded data removed]",
      "text/plain": [
       "<Figure size 432x288 with 1 Axes>"
      ]
     },
     "metadata": {
      "needs_background": "light"
     },
     "output_type": "display_data"
    }
   ],
   "source": [
    "fig, ax = plt.subplots()\n",
    "\n",
    "x, y, dy = cube.average_spectrum(r_min=0.5, r_max=1.5, inc=5.0, PA=152.,\n",
    "                                 mstar=0.88, dist=59.5, resample=50.0,\n",
    "                                 PA_min=-90.0, PA_max=90.0, exclude_PA=False)\n",
    "\n",
    "ax.errorbar(x, y, dy, fmt=' ', lw=1.0, color='k', capsize=1.25, capthick=1.25)\n",
    "ax.step(x, y, where='mid', color='k', lw=1.0, label='south east side')\n",
    "\n",
    "x, y, dy = cube.average_spectrum(r_min=0.5, r_max=1.5, inc=5.0, PA=152.,\n",
    "                                 mstar=0.88, dist=59.5, resample=50.0,\n",
    "                                 PA_min=-90.0, PA_max=90.0, exclude_PA=True)\n",
    "\n",
    "ax.errorbar(x, y, dy, fmt=' ', lw=1.0, color='r', capsize=1.25, capthick=1.25)\n",
    "ax.step(x, y, where='mid', color='r', lw=1.0, label='north west side')\n",
    "\n",
    "ax.legend(markerfirst=False)\n",
    "ax.set_ylabel('Flux Density (Jy/beam)')\n",
    "ax.set_xlabel('Velocity (m/s)')\n",
    "ax.set_xlim(1.84e3, 3.84e3)"
   ]
  },
  {
   "cell_type": "markdown",
   "metadata": {},
   "source": [
    "Note that there is some slight shift between the two lines because of beam convolution effects."
   ]
  }
 ],
 "metadata": {
  "kernelspec": {
   "display_name": "Python 3",
   "language": "python",
   "name": "python3"
  },
  "language_info": {
   "codemirror_mode": {
    "name": "ipython",
    "version": 3
   },
   "file_extension": ".py",
   "mimetype": "text/x-python",
   "name": "python",
   "nbconvert_exporter": "python",
   "pygments_lexer": "ipython3",
   "version": "3.5.5"
  }
 },
 "nbformat": 4,
 "nbformat_minor": 2
}
