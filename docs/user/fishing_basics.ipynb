{
 "cells": [
  {
   "cell_type": "markdown",
   "metadata": {},
   "source": [
    "# Fishing Basics - Application to TW Hya\n",
    "\n",
    "This Notebook will walk through the very basic steps of how to load up data, set up the rotation profile and start extracting spectra.\n",
    "\n",
    "## Get the Data\n",
    "\n",
    "For this we use the lovely data of 12CO J=3-2 emission from TW Hya, presented in [Huang et al. (2018)](https://ui.adsabs.harvard.edu/abs/2018ApJ...852..122H). This can downloaded from the [Harvard Dataverse](https://dataverse.harvard.edu/dataset.xhtml?persistentId=doi:10.7910/DVN/PXDKBC), we'll need the `dataverse_TWHya_CO_cube.fits` cube. Make sure it's in the same directory as this Notebook if you want to run it.\n",
    "\n",
    "TW Hya is a good source to start with as it's near face-on inclination mean that we can assume that the disk is essentially a razor thing 2D disk. In addition the geomtrical parameters are very well known.\n",
    "\n",
    "## Load the Data\n",
    "\n",
    "Loading the data is as simple as firing up `GoFish` and passing it the path of the fits cube to `imagecube`."
   ]
  },
  {
   "cell_type": "code",
   "execution_count": 1,
   "metadata": {},
   "outputs": [],
   "source": [
    "%matplotlib inline\n",
    "from gofish.gofish.gofish import imagecube  # change this!"
   ]
  },
  {
   "cell_type": "code",
   "execution_count": 2,
   "metadata": {},
   "outputs": [],
   "source": [
    "cube = imagecube('/Users/rteague/Projects/TWHya_Kinematics/Data/ALMA/Huang/dataverse_TWHya_CO_cube.fits')"
   ]
  },
  {
   "cell_type": "markdown",
   "metadata": {},
   "source": [
    "You can use the `clip` argument here to trim down your image cube to a field of view which may speed up calculations.\n",
    "\n",
    "## Coordinate System\n",
    "\n",
    "The main"
   ]
  },
  {
   "cell_type": "code",
   "execution_count": null,
   "metadata": {},
   "outputs": [],
   "source": []
  }
 ],
 "metadata": {
  "kernelspec": {
   "display_name": "Python 3",
   "language": "python",
   "name": "python3"
  },
  "language_info": {
   "codemirror_mode": {
    "name": "ipython",
    "version": 3
   },
   "file_extension": ".py",
   "mimetype": "text/x-python",
   "name": "python",
   "nbconvert_exporter": "python",
   "pygments_lexer": "ipython3",
   "version": "3.5.5"
  }
 },
 "nbformat": 4,
 "nbformat_minor": 2
}
